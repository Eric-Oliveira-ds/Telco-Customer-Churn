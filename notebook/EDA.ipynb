{
 "cells": [
  {
   "cell_type": "markdown",
   "metadata": {},
   "source": [
    "# Notebook for making a exploratory data analysis \n",
    "    - Create descriptive statistics\n",
    "    - Create business hypothesis\n",
    "    - Testing business hypothesis"
   ]
  },
  {
   "cell_type": "markdown",
   "metadata": {},
   "source": [
    "## Business problem:\n",
    "\n",
    "The following statement is a fictitious problem:\n",
    "\n",
    "Telco SA is a telecommunications company located in Canada, which lately has been trying problems, they **don't know what they know is with the company's measurements**, **we don't know how to take advantage and retain customers** or even identify the **customers' consumption patterns**. Your **current costs with ways of trying to retain customers are BRL 200,000.00**\n",
    "\n",
    "**Key problem points to attack:**\n",
    "\n",
    "**Problems with customers (Chur)**\n",
    "- **Does not know the measures of the company**\n",
    "- **We don't know how to leverage and retain customers**\n",
    "- **Your current costs with customer campaigns of BRL 200.000.00**\n",
    "\n",
    "**I will seek the solution of the problems described above in addition to trying to reduce these costs of Telco SA with Data Science techniques.**\n",
    "\n",
    "**What is a company's churn?**\n",
    "\n",
    "The **churn** is the percentage of customers who request the cancellation of the contracted service within a certain time interval.\n",
    "\n",
    "**How ​​to calculate your business churn rate?**\n",
    "\n",
    "The simplest formula to measure it is to divide the number of lost customers in a month by the number that there was no start of the month, and multiply by 100.\n",
    "\n",
    "For example: we have 500 contacts, at the end of the month we identify 30 casualties, the churn rate will be 6%."
   ]
  },
  {
   "cell_type": "markdown",
   "metadata": {},
   "source": [
    " - Dictionary of data\n",
    "    - doc\\Dictionary of Telco data.xlsx"
   ]
  },
  {
   "cell_type": "code",
   "execution_count": null,
   "metadata": {},
   "outputs": [],
   "source": []
  },
  {
   "cell_type": "markdown",
   "metadata": {},
   "source": []
  }
 ],
 "metadata": {
  "kernelspec": {
   "display_name": "Python 3.9.10 ('env': venv)",
   "language": "python",
   "name": "python3"
  },
  "language_info": {
   "name": "python",
   "version": "3.9.10"
  },
  "orig_nbformat": 4,
  "vscode": {
   "interpreter": {
    "hash": "b75f05a9fc596f821e1767a6e6ca4bccbe5d94c14c38ac658d45650ade99fd8d"
   }
  }
 },
 "nbformat": 4,
 "nbformat_minor": 2
}
